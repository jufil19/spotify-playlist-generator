{
 "cells": [
  {
   "cell_type": "code",
   "execution_count": 115,
   "id": "c288bd3a-501f-4c62-a8b0-863b85443bd7",
   "metadata": {},
   "outputs": [],
   "source": [
    "import pandas as pd\n",
    "import requests\n",
    "from bs4 import BeautifulSoup\n",
    "import numpy as np\n",
    "import csv"
   ]
  },
  {
   "cell_type": "code",
   "execution_count": 36,
   "id": "ab51103f-70ec-460d-85ce-a72750952abe",
   "metadata": {},
   "outputs": [],
   "source": [
    "headers = {\n",
    "    'User-agent':\n",
    "    \"Mozilla/5.0 (Windows NT 10.0; Win64; x64) AppleWebKit/537.36 (KHTML, like Gecko) Chrome/70.0.3538.102 Safari/537.36 Edge/18.19582\"\n",
    "}"
   ]
  },
  {
   "cell_type": "code",
   "execution_count": 37,
   "id": "65a45f71-213f-4c18-bcd0-09a4740585e3",
   "metadata": {},
   "outputs": [],
   "source": [
    "r = requests.get('https://www.festival-lesdeferlantes.com/', headers = headers)"
   ]
  },
  {
   "cell_type": "code",
   "execution_count": 40,
   "id": "dd1abaed-3175-4ce1-8d77-3f9c5ed4ccf3",
   "metadata": {},
   "outputs": [],
   "source": [
    "soup = BeautifulSoup(r.text)"
   ]
  },
  {
   "cell_type": "code",
   "execution_count": 93,
   "id": "05cd4883-2440-4dae-a24c-65d6c334ac5c",
   "metadata": {},
   "outputs": [],
   "source": [
    "liste_programmation = []\n",
    "for i in range(len(programmation)):\n",
    "    liste_programmation.append(programmation[i].text.upper().strip().split(\"\\n\"))"
   ]
  },
  {
   "cell_type": "code",
   "execution_count": 116,
   "id": "ce7a7516-7c2a-4480-a2d2-cf4c71768aa7",
   "metadata": {
    "scrolled": true,
    "tags": []
   },
   "outputs": [],
   "source": [
    "# Making a dictionary where the value is the date and the value is a list of artist performing on that day\n",
    "contenu = {}\n",
    "for i in range(len(programmation)):\n",
    "    if liste_programmation[i][0] in jour_semaine:\n",
    "        contenu[liste_programmation[i][1]] = (liste_programmation[i+1])"
   ]
  },
  {
   "cell_type": "code",
   "execution_count": 114,
   "id": "2e2b3c7a-ad6f-4616-8515-0f60282dd474",
   "metadata": {},
   "outputs": [],
   "source": [
    "# Writing to csv file (so that I can use it in R)\n",
    "pd.DataFrame.from_dict(data=contenu, orient='index').to_csv('content.csv', header=False)"
   ]
  }
 ],
 "metadata": {
  "kernelspec": {
   "display_name": "Python 3 (ipykernel)",
   "language": "python",
   "name": "python3"
  },
  "language_info": {
   "codemirror_mode": {
    "name": "ipython",
    "version": 3
   },
   "file_extension": ".py",
   "mimetype": "text/x-python",
   "name": "python",
   "nbconvert_exporter": "python",
   "pygments_lexer": "ipython3",
   "version": "3.9.5"
  }
 },
 "nbformat": 4,
 "nbformat_minor": 5
}
